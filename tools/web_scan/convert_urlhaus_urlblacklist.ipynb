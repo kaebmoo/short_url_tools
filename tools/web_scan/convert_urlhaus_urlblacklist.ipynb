{
 "cells": [
  {
   "cell_type": "code",
   "execution_count": 4,
   "metadata": {},
   "outputs": [],
   "source": [
    "import pandas as pd\n",
    "\n",
    "# Define the input and output file paths\n",
    "input_file_path = '/Users/seal/Documents/GitHub/short_url_tools/tools/web_scan/urlhaus_database.csv'\n",
    "output_file_path = '/Users/seal/Documents/GitHub/short_url_tools/tools/web_scan/url_blacklist.csv'\n",
    "\n",
    "# Read the input CSV file\n",
    "df = pd.read_csv(input_file_path)"
   ]
  },
  {
   "cell_type": "code",
   "execution_count": 5,
   "metadata": {},
   "outputs": [],
   "source": [
    "# Transform the data\n",
    "df_transformed = pd.DataFrame({\n",
    "    'url': df['url'],\n",
    "    'category': df['threat'],\n",
    "    'date_added': pd.to_datetime(df['dateadded']).dt.strftime('%Y-%m-%d'),\n",
    "    'reason': df['tags'],\n",
    "    'status': 1\n",
    "})"
   ]
  },
  {
   "cell_type": "code",
   "execution_count": 6,
   "metadata": {},
   "outputs": [
    {
     "name": "stdout",
     "output_type": "stream",
     "text": [
      "Data has been successfully transformed and saved to /Users/seal/Documents/GitHub/short_url_tools/tools/web_scan/url_blacklist.csv\n"
     ]
    }
   ],
   "source": [
    "# Save the transformed DataFrame to the output CSV file\n",
    "df_transformed.to_csv(output_file_path, index=False)\n",
    "\n",
    "print(f\"Data has been successfully transformed and saved to {output_file_path}\")"
   ]
  }
 ],
 "metadata": {
  "kernelspec": {
   "display_name": ".venv",
   "language": "python",
   "name": "python3"
  },
  "language_info": {
   "codemirror_mode": {
    "name": "ipython",
    "version": 3
   },
   "file_extension": ".py",
   "mimetype": "text/x-python",
   "name": "python",
   "nbconvert_exporter": "python",
   "pygments_lexer": "ipython3",
   "version": "3.10.11"
  }
 },
 "nbformat": 4,
 "nbformat_minor": 2
}
